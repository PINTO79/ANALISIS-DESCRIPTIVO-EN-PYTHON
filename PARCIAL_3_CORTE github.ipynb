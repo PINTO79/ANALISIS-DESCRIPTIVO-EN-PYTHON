{
  "nbformat": 4,
  "nbformat_minor": 0,
  "metadata": {
    "colab": {
      "provenance": []
    },
    "kernelspec": {
      "name": "python3",
      "display_name": "Python 3"
    },
    "language_info": {
      "name": "python"
    }
  },
  "cells": [
    {
      "cell_type": "code",
      "execution_count": 1,
      "metadata": {
        "colab": {
          "base_uri": "https://localhost:8080/"
        },
        "id": "K-65Qhhanx7-",
        "outputId": "4fd518fd-f056-4785-b3a6-a2a53f8dea55"
      },
      "outputs": [
        {
          "output_type": "stream",
          "name": "stdout",
          "text": [
            "Mounted at /content/drive/\n"
          ]
        }
      ],
      "source": [
        "from google.colab import drive\n",
        "drive.mount('/content/drive/')\n",
        "#------------------------------------\n",
        "import numpy as np\n",
        "import pandas as pd\n",
        "import matplotlib.pyplot as plt\n",
        "#EN ESTE PASO VAMOS A COLOCAR LAS LIBRERIAS QUE UTILIZAREMOS"
      ]
    },
    {
      "cell_type": "code",
      "source": [
        "path_file=\"/content/drive/MyDrive/AFILIADOS_AL_REGIMEN_SUBSIDIADO_Y_CONTRIBUTIVO_DEL_MUNICIPIO_DE_ACAC_AS_20240911.csv\"\n",
        "df=pd.read_csv(path_file, sep=\",\", header=0)\n",
        "print(df.head())\n",
        "# CARGAMOS EL ARCHIVO DESDE EL DRIVE EN FORMATO CSV Y pedimos q nos imprima los datos que hay en el archivo."
      ],
      "metadata": {
        "colab": {
          "base_uri": "https://localhost:8080/"
        },
        "id": "8Qu5UHPJpXER",
        "outputId": "a3640706-f310-4311-d00f-26ab25d775b7"
      },
      "execution_count": 4,
      "outputs": [
        {
          "output_type": "stream",
          "name": "stdout",
          "text": [
            "    AÑO      MES  R.S. MEDIMAS  R.S. SALUD TOTAL  R.S. SANITAS  \\\n",
            "0  2018    ENERO          5135               714            37   \n",
            "1  2018  FEBRERO          5070               746            37   \n",
            "2  2018    MARZO          5916               793            39   \n",
            "3  2018    ABRIL          5675               760            39   \n",
            "4  2018     MAYO          5350               783            41   \n",
            "\n",
            "   R.S. SURAMERICANA  R.S. FAMISANAR  R.S. NUEVA EPS  R.S. SAVIA SALUD  \\\n",
            "0                  0             263             348                 0   \n",
            "1                  0             264             370                 0   \n",
            "2                  0             278             386                 0   \n",
            "3                  0             290             479                 0   \n",
            "4                  0             297             472                 1   \n",
            "\n",
            "   R.S. CAPITALSALUD  ...  R.C. ALIANZA SALUD  \\\n",
            "0              18331  ...                   0   \n",
            "1              18209  ...                   0   \n",
            "2              18099  ...                   0   \n",
            "3              18157  ...                   0   \n",
            "4              17941  ...                   0   \n",
            "\n",
            "   R.C. NUEVA ENTIDAD PROMOTORA DE SALUD  R.C. CAJACOPI  R.C. COOSALUD  \\\n",
            "0                                      0              0              0   \n",
            "1                                      0              0              0   \n",
            "2                                      0              0              0   \n",
            "3                                      0              0              0   \n",
            "4                                      0              0              0   \n",
            "\n",
            "   R.C. FUNDACION SALUD MIA EPS  R.C CAJANAL  R.C. OCCIDENTAL SALUD  \\\n",
            "0                             0            0                      0   \n",
            "1                             0            0                      0   \n",
            "2                             0            0                      0   \n",
            "3                             0            0                      0   \n",
            "4                             0            0                      0   \n",
            "\n",
            "   R.C SU SALUD  TOTAL R.C.  PPNA  \n",
            "0             0       39327   318  \n",
            "1             0       39382   313  \n",
            "2             0       40089   309  \n",
            "3             0       40708   308  \n",
            "4             0       40566   306  \n",
            "\n",
            "[5 rows x 42 columns]\n"
          ]
        }
      ]
    },
    {
      "cell_type": "markdown",
      "source": [
        "----PREGUNTA A RESOLVER-----\n",
        "¿ Cual es la suma total de la columna  TOTAL MOV Y R.S. y la columna TOTAL R.C. ?"
      ],
      "metadata": {
        "id": "7354Qcu2vJ0x"
      }
    },
    {
      "cell_type": "code",
      "source": [
        "df['TOTAL MOV Y R.S.']\n",
        "#seleccionamos la columna (TOTAL MOV Y R.S.)"
      ],
      "metadata": {
        "colab": {
          "base_uri": "https://localhost:8080/",
          "height": 458
        },
        "id": "PWNDDdYGpuT6",
        "outputId": "8ef51dee-d1b2-4e09-dbf8-3bc83bb49298"
      },
      "execution_count": 6,
      "outputs": [
        {
          "output_type": "execute_result",
          "data": {
            "text/plain": [
              "0     32731\n",
              "1     32679\n",
              "2     33519\n",
              "3     33454\n",
              "4     33017\n",
              "      ...  \n",
              "63    41853\n",
              "64    42035\n",
              "65    42232\n",
              "66    42215\n",
              "67    42552\n",
              "Name: TOTAL MOV Y R.S., Length: 68, dtype: int64"
            ],
            "text/html": [
              "<div>\n",
              "<style scoped>\n",
              "    .dataframe tbody tr th:only-of-type {\n",
              "        vertical-align: middle;\n",
              "    }\n",
              "\n",
              "    .dataframe tbody tr th {\n",
              "        vertical-align: top;\n",
              "    }\n",
              "\n",
              "    .dataframe thead th {\n",
              "        text-align: right;\n",
              "    }\n",
              "</style>\n",
              "<table border=\"1\" class=\"dataframe\">\n",
              "  <thead>\n",
              "    <tr style=\"text-align: right;\">\n",
              "      <th></th>\n",
              "      <th>TOTAL MOV Y R.S.</th>\n",
              "    </tr>\n",
              "  </thead>\n",
              "  <tbody>\n",
              "    <tr>\n",
              "      <th>0</th>\n",
              "      <td>32731</td>\n",
              "    </tr>\n",
              "    <tr>\n",
              "      <th>1</th>\n",
              "      <td>32679</td>\n",
              "    </tr>\n",
              "    <tr>\n",
              "      <th>2</th>\n",
              "      <td>33519</td>\n",
              "    </tr>\n",
              "    <tr>\n",
              "      <th>3</th>\n",
              "      <td>33454</td>\n",
              "    </tr>\n",
              "    <tr>\n",
              "      <th>4</th>\n",
              "      <td>33017</td>\n",
              "    </tr>\n",
              "    <tr>\n",
              "      <th>...</th>\n",
              "      <td>...</td>\n",
              "    </tr>\n",
              "    <tr>\n",
              "      <th>63</th>\n",
              "      <td>41853</td>\n",
              "    </tr>\n",
              "    <tr>\n",
              "      <th>64</th>\n",
              "      <td>42035</td>\n",
              "    </tr>\n",
              "    <tr>\n",
              "      <th>65</th>\n",
              "      <td>42232</td>\n",
              "    </tr>\n",
              "    <tr>\n",
              "      <th>66</th>\n",
              "      <td>42215</td>\n",
              "    </tr>\n",
              "    <tr>\n",
              "      <th>67</th>\n",
              "      <td>42552</td>\n",
              "    </tr>\n",
              "  </tbody>\n",
              "</table>\n",
              "<p>68 rows × 1 columns</p>\n",
              "</div><br><label><b>dtype:</b> int64</label>"
            ]
          },
          "metadata": {},
          "execution_count": 6
        }
      ]
    },
    {
      "cell_type": "code",
      "source": [
        "df['TOTAL R.C.']\n",
        "#seleccionamos la columna (TOTAL R.C.)"
      ],
      "metadata": {
        "colab": {
          "base_uri": "https://localhost:8080/",
          "height": 458
        },
        "id": "hRLrmwRvEoQj",
        "outputId": "c858c649-b7fc-4054-ddec-9ff05f4c53b8"
      },
      "execution_count": 7,
      "outputs": [
        {
          "output_type": "execute_result",
          "data": {
            "text/plain": [
              "0     39327\n",
              "1     39382\n",
              "2     40089\n",
              "3     40708\n",
              "4     40566\n",
              "      ...  \n",
              "63    44343\n",
              "64    44430\n",
              "65    42987\n",
              "66    44384\n",
              "67    44740\n",
              "Name: TOTAL R.C., Length: 68, dtype: int64"
            ],
            "text/html": [
              "<div>\n",
              "<style scoped>\n",
              "    .dataframe tbody tr th:only-of-type {\n",
              "        vertical-align: middle;\n",
              "    }\n",
              "\n",
              "    .dataframe tbody tr th {\n",
              "        vertical-align: top;\n",
              "    }\n",
              "\n",
              "    .dataframe thead th {\n",
              "        text-align: right;\n",
              "    }\n",
              "</style>\n",
              "<table border=\"1\" class=\"dataframe\">\n",
              "  <thead>\n",
              "    <tr style=\"text-align: right;\">\n",
              "      <th></th>\n",
              "      <th>TOTAL R.C.</th>\n",
              "    </tr>\n",
              "  </thead>\n",
              "  <tbody>\n",
              "    <tr>\n",
              "      <th>0</th>\n",
              "      <td>39327</td>\n",
              "    </tr>\n",
              "    <tr>\n",
              "      <th>1</th>\n",
              "      <td>39382</td>\n",
              "    </tr>\n",
              "    <tr>\n",
              "      <th>2</th>\n",
              "      <td>40089</td>\n",
              "    </tr>\n",
              "    <tr>\n",
              "      <th>3</th>\n",
              "      <td>40708</td>\n",
              "    </tr>\n",
              "    <tr>\n",
              "      <th>4</th>\n",
              "      <td>40566</td>\n",
              "    </tr>\n",
              "    <tr>\n",
              "      <th>...</th>\n",
              "      <td>...</td>\n",
              "    </tr>\n",
              "    <tr>\n",
              "      <th>63</th>\n",
              "      <td>44343</td>\n",
              "    </tr>\n",
              "    <tr>\n",
              "      <th>64</th>\n",
              "      <td>44430</td>\n",
              "    </tr>\n",
              "    <tr>\n",
              "      <th>65</th>\n",
              "      <td>42987</td>\n",
              "    </tr>\n",
              "    <tr>\n",
              "      <th>66</th>\n",
              "      <td>44384</td>\n",
              "    </tr>\n",
              "    <tr>\n",
              "      <th>67</th>\n",
              "      <td>44740</td>\n",
              "    </tr>\n",
              "  </tbody>\n",
              "</table>\n",
              "<p>68 rows × 1 columns</p>\n",
              "</div><br><label><b>dtype:</b> int64</label>"
            ]
          },
          "metadata": {},
          "execution_count": 7
        }
      ]
    },
    {
      "cell_type": "code",
      "source": [
        "df['TOTAL'] = df['TOTAL MOV Y R.S.'] + df['TOTAL R.C.']\n",
        "#se suman las dos columnas"
      ],
      "metadata": {
        "id": "F1fFRKeWGdeI"
      },
      "execution_count": 16,
      "outputs": []
    },
    {
      "cell_type": "code",
      "source": [
        "primer_valor_mov_rs = df['TOTAL MOV Y R.S.'].iloc[0]\n",
        "primer_valor_rc = df['TOTAL R.C.'].iloc[0]\n",
        "\n",
        "# Datos para el gráfico\n",
        "categorías = ['TOTAL MOV Y R.S.', 'TOTAL R.C.']\n",
        "valores = [primer_valor_mov_rs, primer_valor_rc]"
      ],
      "metadata": {
        "id": "9g-nQEItNOj1"
      },
      "execution_count": 23,
      "outputs": []
    },
    {
      "cell_type": "code",
      "source": [
        "plt.figure(figsize=(6, 4))\n",
        "plt.bar(categorías, valores, color=['red', 'green'])\n",
        " # aqui seleccionamos el color que le queremos colocar a las barras de la grafica\n",
        "\n",
        "\n",
        "plt.title('Primer Valor de TOTAL MOV Y R.S. y TOTAL R.C.')\n",
        "plt.xlabel('Categoría')\n",
        "plt.ylabel('Valor')\n",
        "# aqui Personalizamos la grafica\n",
        "\n",
        "plt.ylim(0, max(valores) * 1.2)# Ajusta el límite del eje y para mejor visualización\n",
        "\n",
        "plt.grid(axis='y')\n",
        "plt.tight_layout()\n",
        "plt.show()\n",
        "# Aqui mostramos la grafica\n",
        "\n",
        "\n",
        "print(f'Primer valor de TOTAL MOV Y R.S.: {primer_valor_mov_rs}')\n",
        "print(f'Primer valor de TOTAL R.C.: {primer_valor_rc}')\n",
        "#Aqui imprimimos los resultados"
      ],
      "metadata": {
        "colab": {
          "base_uri": "https://localhost:8080/",
          "height": 444
        },
        "id": "hzFKqfqANXfq",
        "outputId": "96543eb0-8bb3-4807-c03c-ef7083ab5154"
      },
      "execution_count": 31,
      "outputs": [
        {
          "output_type": "display_data",
          "data": {
            "text/plain": [
              "<Figure size 600x400 with 1 Axes>"
            ],
            "image/png": "[encoded data removed]"
          },
          "metadata": {}
        },
        {
          "output_type": "stream",
          "name": "stdout",
          "text": [
            "Primer valor de TOTAL MOV Y R.S.: 32731\n",
            "Primer valor de TOTAL R.C.: 39327\n"
          ]
        }
      ]
    }
  ]
}